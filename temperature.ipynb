{
 "cells": [
  {
   "cell_type": "code",
   "execution_count": 1,
   "metadata": {},
   "outputs": [],
   "source": [
    "import datetime\n",
    "from netCDF4 import Dataset,num2date\n",
    "import numpy as np\n",
    "import pandas as pd\n",
    "import glob"
   ]
  },
  {
   "cell_type": "code",
   "execution_count": null,
   "metadata": {},
   "outputs": [],
   "source": [
    "path = 'temperature data/tmax*'\n",
    "file_path_tmax = []\n",
    "for file in glob.iglob(path, recursive = True):\n",
    "    file_path_tmax.append(file)\n",
    "file_path_tmax.sort()\n",
    "file_path_tmax"
   ]
  },
  {
   "cell_type": "code",
   "execution_count": null,
   "metadata": {},
   "outputs": [],
   "source": [
    "path = 'temperature data/tmin*'\n",
    "file_path_tmin = []\n",
    "for file in glob.iglob(path, recursive = True):\n",
    "    file_path_tmin.append(file)\n",
    "file_path_tmin.sort()\n",
    "file_path_tmin"
   ]
  },
  {
   "cell_type": "code",
   "execution_count": null,
   "metadata": {},
   "outputs": [],
   "source": [
    "#dataset = Dataset(\"temperature data/tmax.2001.nc\")\n",
    "\n",
    "def data_Preprocessing(dataset):\n",
    "\n",
    "    nctime = dataset.variables['time'][:] # get values\n",
    "    t_unit = dataset.variables['time'].units # get unit  \"days since 1900-01-01T00:00:00Z\"\n",
    "    tvalue = num2date(nctime,units = t_unit)\n",
    "    str_time = [i.strftime(\"%Y-%m-%d\") for i in tvalue] # to display dates as string\n",
    "\n",
    "    longitude_values = np.repeat(list(dataset['lon']), len(list(dataset['lat']))*len(list(dataset['time'])))\n",
    "    latitude_values = list(dataset['lat'])*len(list(dataset['lon']))*len(list(dataset['time']))\n",
    "    time = list(str_time)*len(list(dataset['lon']))*len(list(dataset['lat']))\n",
    "    temperature_values = np.array(list(dataset['tmax'])).flatten()\n",
    "\n",
    "    ds = pd.DataFrame({\"lon\": longitude_values, \"lat\": latitude_values, \"time\": time, \"tmax\": temperature_values})\n",
    "    ds['time'] = pd.to_datetime(ds['time'])\n",
    "    ds['month'] = ds['time'].dt.month\n",
    "    ds['tmax'] = ds['tmax'].mask(ds['tmax'] == ds['tmax'].iloc[0], np.nan)\n",
    "    \n",
    "    ds1 = ds.loc[ds['month'] == 1]\n",
    "    ds2 = ds.loc[ds['month'] == 2]\n",
    "    ds3 = ds.loc[ds['month'] == 3]\n",
    "    ds4 = ds.loc[ds['month'] == 4]\n",
    "    ds5 = ds.loc[ds['month'] == 5]\n",
    "    \n",
    "    return ds1, ds2, ds3, ds4, ds5"
   ]
  },
  {
   "cell_type": "markdown",
   "metadata": {},
   "source": [
    "# calculate temperature"
   ]
  },
  {
   "cell_type": "code",
   "execution_count": null,
   "metadata": {},
   "outputs": [],
   "source": [
    "def get_tmax(dataset):\n",
    "    df_selected = dataset[((dataset['lon'] <= 265.38175) & \n",
    "                           (dataset['lon'] >= 255.94595) &\n",
    "                           (dataset['lat'] >= 36.99900) &\n",
    "                           (dataset['lat'] <= 41.00132)) |   \n",
    "                          #Kansas Area\n",
    "                          \n",
    "                          ((dataset['lon'] <= 262.71654) & \n",
    "                           (dataset['lon'] >= 256.98720) &\n",
    "                           (dataset['lat'] <= 36.99900) &\n",
    "                           (dataset['lat'] >= 33.89811)) |\n",
    "                          #Oklahoma Area\n",
    "                          \n",
    "                          ((dataset['lon'] <= 255.94281) & \n",
    "                           (dataset['lon'] >= 247.94240) &\n",
    "                           (dataset['lat'] <= 48.99742) &\n",
    "                           (dataset['lat'] >= 44.99552)) |\n",
    "                          #Montana Area\n",
    "                          \n",
    "                          ((dataset['lon'] >= 255.94018) & \n",
    "                           (dataset['lon'] <= 257.93342) &\n",
    "                           (dataset['lat'] <= 43.00957) &\n",
    "                           (dataset['lat'] >= 41.00132))\n",
    "                          #Nebraska Area\n",
    "                          \n",
    "                         ].reset_index(drop = True)\n",
    "    \n",
    "    df_selected['tmax'].fillna(df_selected['tmax'].mean(), inplace=True)\n",
    "    avg_tmax = df_selected['tmax'].mean()\n",
    "    \n",
    "    return avg_tmax"
   ]
  },
  {
   "cell_type": "code",
   "execution_count": null,
   "metadata": {},
   "outputs": [],
   "source": [
    "def get_tmin(dataset):\n",
    "    df_selected = dataset[((dataset['lon'] <= 265.38175) & \n",
    "                           (dataset['lon'] >= 255.94595) &\n",
    "                           (dataset['lat'] >= 36.99900) &\n",
    "                           (dataset['lat'] <= 41.00132)) |   \n",
    "                          #Kansas Area\n",
    "                          \n",
    "                          ((dataset['lon'] <= 262.71654) & \n",
    "                           (dataset['lon'] >= 256.98720) &\n",
    "                           (dataset['lat'] <= 36.99900) &\n",
    "                           (dataset['lat'] >= 33.89811)) |\n",
    "                          #Oklahoma Area\n",
    "                          \n",
    "                          ((dataset['lon'] <= 255.94281) & \n",
    "                           (dataset['lon'] >= 247.94240) &\n",
    "                           (dataset['lat'] <= 48.99742) &\n",
    "                           (dataset['lat'] >= 44.99552)) |\n",
    "                          #Montana Area\n",
    "                          \n",
    "                          ((dataset['lon'] >= 255.94018) & \n",
    "                           (dataset['lon'] <= 257.93342) &\n",
    "                           (dataset['lat'] <= 43.00957) &\n",
    "                           (dataset['lat'] >= 41.00132))\n",
    "                          #Nebraska Area\n",
    "                          \n",
    "                         ].reset_index(drop = True)\n",
    "    \n",
    "    df_selected['tmin'].fillna(df_selected['tmin'].mean(), inplace=True)\n",
    "    avg_tmin = df_selected['tmin'].mean()\n",
    "    \n",
    "    return avg_tmin"
   ]
  },
  {
   "cell_type": "code",
   "execution_count": null,
   "metadata": {},
   "outputs": [],
   "source": [
    "tmax_list = []\n",
    "for file in file_path_tmax:\n",
    "    dataset = Dataset(file)\n",
    "    for i in data_Preprocessing(dataset):\n",
    "        tmax_list.append(get_tmax(i))\n",
    "        print(i)\n",
    "    print(file)"
   ]
  },
  {
   "cell_type": "code",
   "execution_count": null,
   "metadata": {},
   "outputs": [],
   "source": [
    "tmin_list = []\n",
    "for file in file_path_tmin:\n",
    "    dataset = Dataset(file)\n",
    "    for i in data_Preprocessing(dataset):\n",
    "        tmin_list.append(get_tmin(i))\n",
    "        print(i)\n",
    "    print(file)"
   ]
  },
  {
   "cell_type": "code",
   "execution_count": null,
   "metadata": {},
   "outputs": [],
   "source": [
    "df_tem = pd.DataFrame(list(zip(tmax_list,tmin_list)),\n",
    "                      columns = ['tmax', 'tmin'])\n",
    "df_tem"
   ]
  },
  {
   "cell_type": "code",
   "execution_count": null,
   "metadata": {},
   "outputs": [],
   "source": [
    "df_tem.to_csv('temperature.csv')"
   ]
  }
 ],
 "metadata": {
  "kernelspec": {
   "display_name": "Python 3",
   "language": "python",
   "name": "python3"
  },
  "language_info": {
   "codemirror_mode": {
    "name": "ipython",
    "version": 3
   },
   "file_extension": ".py",
   "mimetype": "text/x-python",
   "name": "python",
   "nbconvert_exporter": "python",
   "pygments_lexer": "ipython3",
   "version": "3.8.5"
  },
  "toc": {
   "base_numbering": 1,
   "nav_menu": {},
   "number_sections": true,
   "sideBar": true,
   "skip_h1_title": false,
   "title_cell": "Table of Contents",
   "title_sidebar": "Contents",
   "toc_cell": false,
   "toc_position": {},
   "toc_section_display": true,
   "toc_window_display": false
  }
 },
 "nbformat": 4,
 "nbformat_minor": 4
}
